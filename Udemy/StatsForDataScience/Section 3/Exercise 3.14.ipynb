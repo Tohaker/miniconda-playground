{
 "cells": [
  {
   "cell_type": "code",
   "execution_count": 1,
   "metadata": {},
   "outputs": [],
   "source": [
    "import numpy as np\n",
    "import pandas as pd\n",
    "import math"
   ]
  },
  {
   "cell_type": "markdown",
   "metadata": {},
   "source": [
    "# Confidence Interval for the difference of two means\n",
    "## Independent samples, variance known\n",
    "**Background:** You have the dataset from the lesson."
   ]
  },
  {
   "cell_type": "code",
   "execution_count": 2,
   "metadata": {},
   "outputs": [],
   "source": [
    "data = pd.DataFrame({\n",
    "    'Engineering': {\n",
    "        'Size': 100,\n",
    "        'Sample Mean': 58,\n",
    "        'Population Std': 10\n",
    "    },\n",
    "    'Management': {\n",
    "        'Size': 70,\n",
    "        'Sample Mean': 65,\n",
    "        'Population Std': 5\n",
    "    }\n",
    "})"
   ]
  },
  {
   "cell_type": "markdown",
   "metadata": {},
   "source": [
    "**Task 1:** Calculate the 99% confidence interval."
   ]
  },
  {
   "cell_type": "code",
   "execution_count": 3,
   "metadata": {},
   "outputs": [
    {
     "name": "stdout",
     "output_type": "stream",
     "text": [
      "Low: -9.99\tHigh: -4.01\n"
     ]
    }
   ],
   "source": [
    "z_value = 2.58\n",
    "diff_mean = -7\n",
    "diff_std = 1.16\n",
    "\n",
    "low = diff_mean - z_value * diff_std\n",
    "high = diff_mean + z_value * diff_std\n",
    "print('Low: {:.2f}\\tHigh: {:.2f}'.format(low, high))"
   ]
  },
  {
   "cell_type": "markdown",
   "metadata": {},
   "source": [
    "**Task 2:** Compare it to the 95% confidence interval from the lesson.\n",
    "\n",
    "A higher confidence level leads to a broader interval."
   ]
  },
  {
   "cell_type": "code",
   "execution_count": null,
   "metadata": {},
   "outputs": [],
   "source": []
  }
 ],
 "metadata": {
  "kernelspec": {
   "display_name": "Python 3",
   "language": "python",
   "name": "python3"
  },
  "language_info": {
   "codemirror_mode": {
    "name": "ipython",
    "version": 3
   },
   "file_extension": ".py",
   "mimetype": "text/x-python",
   "name": "python",
   "nbconvert_exporter": "python",
   "pygments_lexer": "ipython3",
   "version": "3.7.6"
  }
 },
 "nbformat": 4,
 "nbformat_minor": 4
}
