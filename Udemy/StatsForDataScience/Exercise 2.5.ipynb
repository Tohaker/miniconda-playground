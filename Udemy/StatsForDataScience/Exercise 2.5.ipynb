{
 "cells": [
  {
   "cell_type": "code",
   "execution_count": 1,
   "metadata": {},
   "outputs": [],
   "source": [
    "import numpy as np\n",
    "import pandas as pd\n",
    "import math"
   ]
  },
  {
   "cell_type": "markdown",
   "metadata": {},
   "source": [
    "# The Histogram\n",
    "**Background:** You are given a dataset.  "
   ]
  },
  {
   "cell_type": "code",
   "execution_count": 2,
   "metadata": {},
   "outputs": [],
   "source": [
    "dataset = np.array([13, 68, 165, 193, 216, 228, 361, 470, 500, 529, 544, 602, 647, 692, 696, 699, 809, 892, 899, 936])"
   ]
  },
  {
   "cell_type": "markdown",
   "metadata": {},
   "source": [
    "**Task 1:** Construct a frequency distribution table with 10 intervals"
   ]
  },
  {
   "cell_type": "code",
   "execution_count": 3,
   "metadata": {},
   "outputs": [
    {
     "name": "stdout",
     "output_type": "stream",
     "text": [
      "Frequency Distribution table with 10 integer intervals:\n",
      "       Range Absolute Freq.  Relative Freq.\n",
      "0   13 - 106              2            0.10\n",
      "1  106 - 199              2            0.10\n",
      "2  199 - 292              2            0.10\n",
      "3  292 - 385              1            0.05\n",
      "4  385 - 478              1            0.05\n",
      "5  478 - 571              3            0.15\n",
      "6  571 - 664              2            0.10\n",
      "7  664 - 757              3            0.15\n",
      "8  757 - 850              1            0.05\n",
      "9  850 - 943              3            0.15\n",
      "\n",
      "Frequency Distribution table with 10 exact intervals:\n",
      "             Range Absolute Freq.  Relative Freq.\n",
      "0   13.00 - 105.30              2            0.10\n",
      "1  105.30 - 197.60              2            0.10\n",
      "2  197.60 - 289.90              2            0.10\n",
      "3  289.90 - 382.20              1            0.05\n",
      "4  382.20 - 474.50              1            0.05\n",
      "5  474.50 - 566.80              3            0.15\n",
      "6  566.80 - 659.10              2            0.10\n",
      "7  659.10 - 751.40              3            0.15\n",
      "8  751.40 - 843.70              1            0.05\n",
      "9  843.70 - 936.00              2            0.10\n"
     ]
    }
   ],
   "source": [
    "no_intervals = 10\n",
    "interval_width = (dataset.max() - dataset.min()) / no_intervals\n",
    "iw_rounded = math.ceil(interval_width)\n",
    "\n",
    "i_table = pd.DataFrame(columns=['Range', 'Absolute Freq.', 'Relative Freq.'])\n",
    "\n",
    "for i in range(dataset.min(), dataset.max(), iw_rounded):\n",
    "    if i == dataset.min():\n",
    "        abs_freq = ((i <= dataset) & (dataset <= i + iw_rounded)).sum()\n",
    "    else:\n",
    "        abs_freq = ((i < dataset) & (dataset <= i + iw_rounded)).sum()\n",
    "        \n",
    "    i_table = i_table.append({'Range': '{} - {}'.format(i, i + iw_rounded),\n",
    "                          'Absolute Freq.': abs_freq,\n",
    "                          'Relative Freq.': abs_freq / dataset.size}, ignore_index=True)\n",
    "\n",
    "print('Frequency Distribution table with 10 integer intervals:')\n",
    "print(i_table)\n",
    "\n",
    "table = pd.DataFrame(columns=['Range', 'Absolute Freq.', 'Relative Freq.'])\n",
    "\n",
    "for i in np.arange(dataset.min(), dataset.max(), interval_width):\n",
    "    if i == dataset.min():\n",
    "        abs_freq = ((i <= dataset) & (dataset <= i + interval_width)).sum()\n",
    "    else:\n",
    "        abs_freq = ((i < dataset) & (dataset <= i + interval_width)).sum()\n",
    "        \n",
    "    table = table.append({'Range': '{:.2f} - {:.2f}'.format(i, i + interval_width),\n",
    "                          'Absolute Freq.': abs_freq,\n",
    "                          'Relative Freq.': abs_freq / dataset.size}, ignore_index=True)\n",
    "    \n",
    "print('\\nFrequency Distribution table with 10 exact intervals:')\n",
    "print(table)"
   ]
  },
  {
   "cell_type": "markdown",
   "metadata": {},
   "source": [
    "**Task 2:** Create a histogram with 10 intervals, based on your dataset."
   ]
  },
  {
   "cell_type": "code",
   "execution_count": 4,
   "metadata": {},
   "outputs": [
    {
     "data": {
      "text/plain": [
       "array([[<matplotlib.axes._subplots.AxesSubplot object at 0x7fd53fcfd650>]],\n",
       "      dtype=object)"
      ]
     },
     "execution_count": 4,
     "metadata": {},
     "output_type": "execute_result"
    },
    {
     "data": {
      "image/png": "[encoded data removed]",
      "text/plain": [
       "<Figure size 432x288 with 1 Axes>"
      ]
     },
     "metadata": {
      "needs_background": "light"
     },
     "output_type": "display_data"
    }
   ],
   "source": [
    "df = pd.DataFrame(dataset)\n",
    "df.hist(bins=10)"
   ]
  },
  {
   "cell_type": "code",
   "execution_count": null,
   "metadata": {},
   "outputs": [],
   "source": []
  }
 ],
 "metadata": {
  "kernelspec": {
   "display_name": "Python 3",
   "language": "python",
   "name": "python3"
  },
  "language_info": {
   "codemirror_mode": {
    "name": "ipython",
    "version": 3
   },
   "file_extension": ".py",
   "mimetype": "text/x-python",
   "name": "python",
   "nbconvert_exporter": "python",
   "pygments_lexer": "ipython3",
   "version": "3.7.6"
  }
 },
 "nbformat": 4,
 "nbformat_minor": 4
}
