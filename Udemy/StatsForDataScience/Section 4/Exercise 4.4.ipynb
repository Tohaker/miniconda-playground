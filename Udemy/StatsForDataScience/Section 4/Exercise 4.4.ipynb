{
 "cells": [
  {
   "cell_type": "code",
   "execution_count": 1,
   "metadata": {},
   "outputs": [],
   "source": [
    "import numpy as np\n",
    "import math"
   ]
  },
  {
   "cell_type": "markdown",
   "metadata": {},
   "source": [
    "# Test for the Mean\n",
    "## Population Variance known\n",
    "\n",
    "**Background:** You are given the data from the lesson."
   ]
  },
  {
   "cell_type": "code",
   "execution_count": 2,
   "metadata": {},
   "outputs": [],
   "source": [
    "dataset = np.array([117313.00, 104002.00, 113038.00, 101936.00, 84560.00, 113136.00, 80740.00, 100536.00,\n",
    "                    105052.00, 87201.00, 91986.00, 94868.00, 90745.00, 102848.00, 85927.00, 112276.00,\n",
    "                    108637.00, 96818.00, 92307.00, 114564.00, 109714.00, 108833.00, 115295.00, 89279.00,\n",
    "                    81720.00, 89344.00, 114426.00, 90410.00, 95118.00, 113382.00])"
   ]
  },
  {
   "cell_type": "markdown",
   "metadata": {},
   "source": [
    "**Task 1:** Test the null hypothesis at 10% significance."
   ]
  },
  {
   "cell_type": "code",
   "execution_count": 3,
   "metadata": {},
   "outputs": [
    {
     "name": "stdout",
     "output_type": "stream",
     "text": [
      "Z Score: 4.673765269641137\tCritical Value: 1.65\n"
     ]
    }
   ],
   "source": [
    "mean = dataset.mean()\n",
    "std_deviation = 15000\n",
    "null_hypothesis = 113000\n",
    "std_error = std_deviation / math.sqrt(dataset.size)\n",
    "z_score = (mean - null_hypothesis) / std_error\n",
    "\n",
    "# The critical value comes from the z-table. Alpha is 10% = 0.1, therefore we\n",
    "# look for the value at 1 - 0.05 = 0.950.\n",
    "critical_value = 1.65\n",
    "\n",
    "print('Z Score: {}\\tCritical Value: {}'.format(abs(z_score), critical_value))"
   ]
  },
  {
   "cell_type": "markdown",
   "metadata": {},
   "source": [
    "We can conclude that as the critical value is less than the absolute value of the z score, we can reject the null hypothesis."
   ]
  }
 ],
 "metadata": {
  "kernelspec": {
   "display_name": "Python 3",
   "language": "python",
   "name": "python3"
  },
  "language_info": {
   "codemirror_mode": {
    "name": "ipython",
    "version": 3
   },
   "file_extension": ".py",
   "mimetype": "text/x-python",
   "name": "python",
   "nbconvert_exporter": "python",
   "pygments_lexer": "ipython3",
   "version": "3.7.6"
  }
 },
 "nbformat": 4,
 "nbformat_minor": 4
}
