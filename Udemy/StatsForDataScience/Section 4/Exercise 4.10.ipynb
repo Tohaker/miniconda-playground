{
 "cells": [
  {
   "cell_type": "code",
   "execution_count": 1,
   "metadata": {},
   "outputs": [],
   "source": [
    "import numpy as np\n",
    "import pandas as pd\n",
    "import math"
   ]
  },
  {
   "cell_type": "markdown",
   "metadata": {},
   "source": [
    "# Practical Example\n",
    "## Hypothesis Testing\n",
    "**Background:** You are given the same dataset. We have also created two new datasets: 'White' (containing only employees that are indicated as white) and 'Nonwhite' (Asian, Black or African American, Hispanic, Two or more races). "
   ]
  },
  {
   "cell_type": "code",
   "execution_count": 2,
   "metadata": {},
   "outputs": [],
   "source": [
    "dataset = pd.read_csv('ex4-10.csv')\n",
    "dataset['Salary'] = dataset['Salary'].str.replace(',', '').str.replace('$', '').astype('float')\n",
    "\n",
    "white = dataset[dataset['Ethnicity'] == 'White']\n",
    "nonwhite = dataset[dataset['Ethnicity'] != 'White']"
   ]
  },
  {
   "cell_type": "markdown",
   "metadata": {},
   "source": [
    "**Task:** Using the same methodology as in the lecture, find if there is pay gap based on race."
   ]
  },
  {
   "cell_type": "code",
   "execution_count": 3,
   "metadata": {},
   "outputs": [
    {
     "data": {
      "text/plain": [
       "-0.6643503862032862"
      ]
     },
     "execution_count": 3,
     "metadata": {},
     "output_type": "execute_result"
    }
   ],
   "source": [
    "mean_white = white['Salary'].mean()\n",
    "mean_nonwhite = nonwhite['Salary'].mean()\n",
    "\n",
    "var_white = white['Salary'].var()\n",
    "var_nonwhite = nonwhite['Salary'].var()\n",
    "\n",
    "pooled_variance = ((white.shape[0] - 1) * var_white + (nonwhite.shape[0] - 1) * var_nonwhite) / (white.shape[0] + nonwhite.shape[0] - 2)\n",
    "\n",
    "T_score = (mean_white - mean_nonwhite) / math.sqrt(pooled_variance / white.shape[0] + pooled_variance / nonwhite.shape[0])\n",
    "T_score"
   ]
  },
  {
   "cell_type": "markdown",
   "metadata": {},
   "source": [
    "p-value = 0.5065\n",
    "\n",
    "This value is not statistically significant enough to allow us to reject the null hypothesis, indicating that the company has a largely equal pay rate between White people and People of Colour."
   ]
  },
  {
   "cell_type": "code",
   "execution_count": null,
   "metadata": {},
   "outputs": [],
   "source": []
  }
 ],
 "metadata": {
  "kernelspec": {
   "display_name": "Python 3",
   "language": "python",
   "name": "python3"
  },
  "language_info": {
   "codemirror_mode": {
    "name": "ipython",
    "version": 3
   },
   "file_extension": ".py",
   "mimetype": "text/x-python",
   "name": "python",
   "nbconvert_exporter": "python",
   "pygments_lexer": "ipython3",
   "version": "3.7.6"
  }
 },
 "nbformat": 4,
 "nbformat_minor": 4
}
