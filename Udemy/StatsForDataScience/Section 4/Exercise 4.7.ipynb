{
 "cells": [
  {
   "cell_type": "code",
   "execution_count": 1,
   "metadata": {},
   "outputs": [],
   "source": [
    "import numpy as np\n",
    "import math"
   ]
  },
  {
   "cell_type": "markdown",
   "metadata": {},
   "source": [
    "# Test the Mean\n",
    "## Dependent Samples\n",
    "**Background:** Some guy on the internet designed a weight-loss program. You are wondering if it is working. You are given a sample of some people who did the program. "
   ]
  },
  {
   "cell_type": "code",
   "execution_count": 2,
   "metadata": {},
   "outputs": [],
   "source": [
    "before = np.array([103.68,  110.68, 119.05, 101.75, 91.69, 112.03, 88.84, 105.18, 110.37, 120.99])\n",
    "after = np.array([103.67, 108.38, 115.95, 101.70, 90.59, 112.70, 87.36, 103.80, 106.07, 122.65])"
   ]
  },
  {
   "cell_type": "markdown",
   "metadata": {},
   "source": [
    "**Task 1:** Calculate the difference between before and after."
   ]
  },
  {
   "cell_type": "code",
   "execution_count": 3,
   "metadata": {},
   "outputs": [],
   "source": [
    "difference = after - before"
   ]
  },
  {
   "cell_type": "markdown",
   "metadata": {},
   "source": [
    "**Task 2:** State the null hypothesis.\n",
    "\n",
    "Null Hypothesis: The weight after the diet is greater than or equal to the weight before the diet; D0 >= 0"
   ]
  },
  {
   "cell_type": "markdown",
   "metadata": {},
   "source": [
    "**Task 3:** Calculate the appropriate statistic."
   ]
  },
  {
   "cell_type": "code",
   "execution_count": 4,
   "metadata": {},
   "outputs": [
    {
     "data": {
      "text/plain": [
       "-2.1176751494605113"
      ]
     },
     "execution_count": 4,
     "metadata": {},
     "output_type": "execute_result"
    }
   ],
   "source": [
    "mean = difference.mean()\n",
    "std = np.std(difference)\n",
    "std_error = std / math.sqrt(difference.size)\n",
    "\n",
    "T_score = mean / std_error\n",
    "T_score"
   ]
  },
  {
   "cell_type": "markdown",
   "metadata": {},
   "source": [
    "**Task 4:** Decide if this is a one-sided or a two-sided test. Calculate the p-value of this statistic."
   ]
  },
  {
   "cell_type": "code",
   "execution_count": 5,
   "metadata": {},
   "outputs": [
    {
     "data": {
      "text/plain": [
       "0.03165"
      ]
     },
     "execution_count": 5,
     "metadata": {},
     "output_type": "execute_result"
    }
   ],
   "source": [
    "# This is a one-sided test.\n",
    "\n",
    "p_value = 0.0633 / 2\n",
    "p_value "
   ]
  },
  {
   "cell_type": "markdown",
   "metadata": {},
   "source": [
    "**Task 5:** Based on the p-value, decide at 1%,5% and 10% significance, if the program is working. Comment using the appropriate statistical jargon.\n",
    "\n",
    "0.01 < 0.031 - Accept the null hypothesis, meaning that the plan is not working.\n",
    "0.05 > 0.031 - Reject the null hypothesis, the plan is successful.\n",
    "0.1  > 0.031 - Reject, same reason. But we don't have that much evidence that the plan works so we should do more tests."
   ]
  },
  {
   "cell_type": "code",
   "execution_count": null,
   "metadata": {},
   "outputs": [],
   "source": []
  }
 ],
 "metadata": {
  "kernelspec": {
   "display_name": "Python 3",
   "language": "python",
   "name": "python3"
  },
  "language_info": {
   "codemirror_mode": {
    "name": "ipython",
    "version": 3
   },
   "file_extension": ".py",
   "mimetype": "text/x-python",
   "name": "python",
   "nbconvert_exporter": "python",
   "pygments_lexer": "ipython3",
   "version": "3.7.6"
  }
 },
 "nbformat": 4,
 "nbformat_minor": 4
}
