{
 "cells": [
  {
   "cell_type": "code",
   "execution_count": 1,
   "metadata": {},
   "outputs": [],
   "source": [
    "import numpy as np\n",
    "import math"
   ]
  },
  {
   "cell_type": "markdown",
   "metadata": {},
   "source": [
    "# Test for the Mean\n",
    "## Population Variance Unknown\n",
    "\n",
    "**Background:** You are given the data from the lesson."
   ]
  },
  {
   "cell_type": "code",
   "execution_count": 2,
   "metadata": {},
   "outputs": [],
   "source": [
    "dataset = np.array([0.26, 0.23, 0.42, 0.49, 0.23, 0.59, 0.29, 0.29, 0.57, 0.40])"
   ]
  },
  {
   "cell_type": "markdown",
   "metadata": {},
   "source": [
    "**Task 1:** What if the question was: is the competitor open rate EXACTLY 40%. What would be the decision then?  \n",
    "_Task 1.1:_ Test at 5% significance. Comment on the decision with the appropriate statistical jargon."
   ]
  },
  {
   "cell_type": "code",
   "execution_count": 3,
   "metadata": {},
   "outputs": [
    {
     "name": "stdout",
     "output_type": "stream",
     "text": [
      "T Score: 0.5581439287421185\tCritical Value: 2.262\n"
     ]
    }
   ],
   "source": [
    "mean = dataset.mean()\n",
    "std = np.std(dataset)\n",
    "std_error = std / math.sqrt(dataset.size)\n",
    "\n",
    "null_hypothesis = 0.40\n",
    "t_score = (mean - null_hypothesis) / std_error\n",
    "\n",
    "# Taken from the t table at 5% significance with 9 degrees of freedom.\n",
    "critical_value = 1.833\n",
    "# Taken from the t table at 2.5% significance with 9 degrees of freedom.\n",
    "critical_value_two_sided = 2.262\n",
    "\n",
    "print('T Score: {}\\tCritical Value: {}'.format(abs(t_score), critical_value_two_sided))\n",
    "\n",
    "# Decision: As T < t, we cannot reject the null hypothesis.\n",
    "# Therefore; At the 5% significance level we cannot say that the competitors open rate is not 40%."
   ]
  },
  {
   "cell_type": "markdown",
   "metadata": {},
   "source": [
    "_Task 1.2:_ Test at 1% significance."
   ]
  },
  {
   "cell_type": "code",
   "execution_count": 4,
   "metadata": {},
   "outputs": [
    {
     "name": "stdout",
     "output_type": "stream",
     "text": [
      "T Score: 0.5581439287421185\tCritical Value: 3.25\n"
     ]
    }
   ],
   "source": [
    "mean = dataset.mean()\n",
    "std = np.std(dataset)\n",
    "std_error = std / math.sqrt(dataset.size)\n",
    "\n",
    "null_hypothesis = 0.40\n",
    "t_score = (mean - null_hypothesis) / std_error\n",
    "\n",
    "# Taken from the t table at 1% significance with 9 degrees of freedom.\n",
    "critical_value = 2.821\n",
    "# Taken from the t table at 0.5% significance with 9 degrees of freedom.\n",
    "critical_value_two_sided = 3.250\n",
    "\n",
    "print('T Score: {}\\tCritical Value: {}'.format(abs(t_score), critical_value_two_sided))\n",
    "\n",
    "# Decision: As T < t, we cannot reject the null hypothesis.\n",
    "# Therefore; At the 1% significance level we can say that the competitors open rate is likely 40%."
   ]
  },
  {
   "cell_type": "markdown",
   "metadata": {},
   "source": [
    "_Task 1.3:_ Calculate the p-value of the test. Solve 1.1 and 1.2 using the p-value.\n",
    "\n",
    "`p-value` is 0.590, which is greater than both 0.05 and 0.01, therefore we cannot reject the null hypothesis."
   ]
  },
  {
   "cell_type": "code",
   "execution_count": null,
   "metadata": {},
   "outputs": [],
   "source": []
  }
 ],
 "metadata": {
  "kernelspec": {
   "display_name": "Python 3",
   "language": "python",
   "name": "python3"
  },
  "language_info": {
   "codemirror_mode": {
    "name": "ipython",
    "version": 3
   },
   "file_extension": ".py",
   "mimetype": "text/x-python",
   "name": "python",
   "nbconvert_exporter": "python",
   "pygments_lexer": "ipython3",
   "version": "3.7.6"
  }
 },
 "nbformat": 4,
 "nbformat_minor": 4
}
