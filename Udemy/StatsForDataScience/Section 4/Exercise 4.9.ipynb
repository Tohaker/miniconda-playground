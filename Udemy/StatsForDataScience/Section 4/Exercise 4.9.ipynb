{
 "cells": [
  {
   "cell_type": "code",
   "execution_count": 1,
   "metadata": {},
   "outputs": [],
   "source": [
    "import math"
   ]
  },
  {
   "cell_type": "markdown",
   "metadata": {},
   "source": [
    "# Testing of two means\n",
    "## Independent samples, population variances unknown but assumed equal\n",
    "**Background:** You have data on the amount of times people click on a pop-up add on 24 Mondays and 21 Saturdays on an e-learning platform for several years. The samples are drawn independently."
   ]
  },
  {
   "cell_type": "code",
   "execution_count": 2,
   "metadata": {},
   "outputs": [],
   "source": [
    "mean_monday = 1078\n",
    "mean_saturday = 908\n",
    "std_monday = 633\n",
    "std_saturday = 469.8\n",
    "size_monday = 24\n",
    "size_saturday = 21"
   ]
  },
  {
   "cell_type": "markdown",
   "metadata": {},
   "source": [
    "**Task:** Statistically speaking, is there strong evidence that the number of clicks the add records on Mondays is higher than the number of clicks on Saturdays? \n",
    "\n",
    "Null Hypothesis: The number of clicks on Monday is less than or equal to the number of clicks on Saturday.  \n",
    "n_m - n_s <= 0"
   ]
  },
  {
   "cell_type": "code",
   "execution_count": 3,
   "metadata": {},
   "outputs": [
    {
     "name": "stdout",
     "output_type": "stream",
     "text": [
      "1.010515161174388\n",
      "0.15895\n"
     ]
    }
   ],
   "source": [
    "pooled_variance = ((size_monday - 1) * math.pow(std_monday, 2) + (size_saturday - 1) * math.pow(std_saturday, 2)) / (size_monday + size_saturday - 2)\n",
    "\n",
    "T_score = (mean_monday - mean_saturday) / math.sqrt(pooled_variance / size_monday + pooled_variance / size_saturday)\n",
    "print(T_score)\n",
    "\n",
    "p_value = 0.3179 / 2\n",
    "print(p_value)"
   ]
  },
  {
   "cell_type": "markdown",
   "metadata": {},
   "source": [
    "The p-value shows the result is not significant, so we have no reason to assume more people click on Mondays than Saturdays."
   ]
  },
  {
   "cell_type": "code",
   "execution_count": null,
   "metadata": {},
   "outputs": [],
   "source": []
  }
 ],
 "metadata": {
  "kernelspec": {
   "display_name": "Python 3",
   "language": "python",
   "name": "python3"
  },
  "language_info": {
   "codemirror_mode": {
    "name": "ipython",
    "version": 3
   },
   "file_extension": ".py",
   "mimetype": "text/x-python",
   "name": "python",
   "nbconvert_exporter": "python",
   "pygments_lexer": "ipython3",
   "version": "3.7.6"
  }
 },
 "nbformat": 4,
 "nbformat_minor": 4
}
