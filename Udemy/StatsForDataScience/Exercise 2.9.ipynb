{
 "cells": [
  {
   "cell_type": "code",
   "execution_count": 1,
   "metadata": {},
   "outputs": [],
   "source": [
    "import numpy as np\n",
    "import math"
   ]
  },
  {
   "cell_type": "markdown",
   "metadata": {},
   "source": [
    "# Variance\n",
    "**Background:** You have the annual personal income of 11 people from the USA. You have the mean income from the exercise on mean, median and mode."
   ]
  },
  {
   "cell_type": "code",
   "execution_count": 2,
   "metadata": {},
   "outputs": [],
   "source": [
    "dataset = np.array([62000, 64000, 49000, 324000, 1264000, 54330, 64000, 51000, 55000, 48000, 53000])\n",
    "mean = 189848.18"
   ]
  },
  {
   "cell_type": "markdown",
   "metadata": {},
   "source": [
    "**Task 1:** Decide whether you have to use sample or population formula for the variance.\n",
    "\n",
    "Sample formula should be used, as this data is a sample from a population."
   ]
  },
  {
   "cell_type": "markdown",
   "metadata": {},
   "source": [
    "**Task 2:** Calculate the variance of their income."
   ]
  },
  {
   "cell_type": "code",
   "execution_count": 3,
   "metadata": {},
   "outputs": [
    {
     "name": "stdout",
     "output_type": "stream",
     "text": [
      "Variance: 133433409536.36\n"
     ]
    }
   ],
   "source": [
    "variance = 0\n",
    "for i in dataset:\n",
    "    variance += math.pow((i - mean), 2)\n",
    "\n",
    "variance /= dataset.size - 1\n",
    "print('Variance: {:.2f}'.format(variance))"
   ]
  },
  {
   "cell_type": "markdown",
   "metadata": {},
   "source": [
    "**Task 3:** Generally, what does this number tell you?\n",
    "\n",
    "Over the population of the US, income is hugely variant."
   ]
  },
  {
   "cell_type": "code",
   "execution_count": null,
   "metadata": {},
   "outputs": [],
   "source": []
  }
 ],
 "metadata": {
  "kernelspec": {
   "display_name": "Python 3",
   "language": "python",
   "name": "python3"
  },
  "language_info": {
   "codemirror_mode": {
    "name": "ipython",
    "version": 3
   },
   "file_extension": ".py",
   "mimetype": "text/x-python",
   "name": "python",
   "nbconvert_exporter": "python",
   "pygments_lexer": "ipython3",
   "version": "3.7.6"
  }
 },
 "nbformat": 4,
 "nbformat_minor": 4
}
