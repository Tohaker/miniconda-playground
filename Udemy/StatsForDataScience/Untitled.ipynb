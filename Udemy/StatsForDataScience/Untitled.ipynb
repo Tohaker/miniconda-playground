{
 "cells": [
  {
   "cell_type": "code",
   "execution_count": 1,
   "metadata": {},
   "outputs": [],
   "source": [
    "import numpy as np\n",
    "import math"
   ]
  },
  {
   "cell_type": "markdown",
   "metadata": {},
   "source": [
    "# Confidence Interval for difference of two means\n",
    "## Independent samples, variances unknown but assumed to be equal\n",
    "**Background:** You have the same datasets from the lesson."
   ]
  },
  {
   "cell_type": "code",
   "execution_count": 2,
   "metadata": {},
   "outputs": [],
   "source": [
    "ny_data = np.array([3.80, 3.76, 3.87, 3.99, 4.02, 4.25, 4.13, 3.98, 3.99, 3.62])\n",
    "la_data = np.array([3.02, 3.22, 3.24, 3.02, 3.06, 3.15, 3.81, 3.44])"
   ]
  },
  {
   "cell_type": "markdown",
   "metadata": {},
   "source": [
    "**Task 1:** Calculate the 90% confidence interval."
   ]
  },
  {
   "cell_type": "code",
   "execution_count": 3,
   "metadata": {},
   "outputs": [
    {
     "name": "stdout",
     "output_type": "stream",
     "text": [
      "Low: 0.53\tHigh: 0.86\n"
     ]
    }
   ],
   "source": [
    "ny_mean = ny_data.mean()\n",
    "la_mean = la_data.mean()\n",
    "mean_diff = ny_mean - la_mean\n",
    "\n",
    "ny_std = np.std(ny_data)\n",
    "la_std = np.std(la_data)\n",
    "pooled_variance = (math.pow(ny_std, 2) * (ny_data.size - 1) + math.pow(la_std, 2) * (la_data.size - 1)) / (ny_data.size + la_data.size)\n",
    "\n",
    "t_value = 1.746\n",
    "std_error = math.sqrt(pooled_variance / ny_data.size + pooled_variance / la_data.size)\n",
    "\n",
    "low = mean_diff - t_value * std_error\n",
    "high = mean_diff + t_value * std_error\n",
    "\n",
    "print('Low: {:.2f}\\tHigh: {:.2f}'.format(low, high))"
   ]
  },
  {
   "cell_type": "markdown",
   "metadata": {},
   "source": [
    "**Task 2:** Compare the result with the 95% confidence interval from the lesson.\n",
    "\n",
    "The lower confidence level makes the interval narrower."
   ]
  },
  {
   "cell_type": "code",
   "execution_count": null,
   "metadata": {},
   "outputs": [],
   "source": []
  }
 ],
 "metadata": {
  "kernelspec": {
   "display_name": "Python 3",
   "language": "python",
   "name": "python3"
  },
  "language_info": {
   "codemirror_mode": {
    "name": "ipython",
    "version": 3
   },
   "file_extension": ".py",
   "mimetype": "text/x-python",
   "name": "python",
   "nbconvert_exporter": "python",
   "pygments_lexer": "ipython3",
   "version": "3.7.6"
  }
 },
 "nbformat": 4,
 "nbformat_minor": 4
}
