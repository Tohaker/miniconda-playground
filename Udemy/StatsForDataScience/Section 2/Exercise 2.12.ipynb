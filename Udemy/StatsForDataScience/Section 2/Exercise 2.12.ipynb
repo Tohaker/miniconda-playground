{
 "cells": [
  {
   "cell_type": "code",
   "execution_count": 1,
   "metadata": {},
   "outputs": [],
   "source": [
    "import numpy as np\n",
    "import pandas as pd\n",
    "import math"
   ]
  },
  {
   "cell_type": "markdown",
   "metadata": {},
   "source": [
    "# Correlation\n",
    "**Background:** You are given data on the SAT scores from the correlation exercise."
   ]
  },
  {
   "cell_type": "code",
   "execution_count": 2,
   "metadata": {},
   "outputs": [],
   "source": [
    "data = pd.DataFrame({\n",
    "    'Writing': [344, 383, 611, 713, 536],\n",
    "    'Reading': [378, 349, 503, 719, 503]\n",
    "})\n",
    "covariance = 21155.55\n",
    "writing_mean = data['Writing'].mean()\n",
    "reading_mean = data['Reading'].mean()"
   ]
  },
  {
   "cell_type": "markdown",
   "metadata": {},
   "source": [
    "**Task 1:** Calculate the correlation coefficient of the two datasets."
   ]
  },
  {
   "cell_type": "code",
   "execution_count": 4,
   "metadata": {},
   "outputs": [
    {
     "name": "stdout",
     "output_type": "stream",
     "text": [
      "Coefficient of Correlation: 0.938125713331758\n"
     ]
    }
   ],
   "source": [
    "writing_variance = 0\n",
    "reading_variance = 0\n",
    "\n",
    "for i in data['Writing']:\n",
    "    writing_variance += math.pow((i - writing_mean), 2)\n",
    "\n",
    "writing_variance /= data['Writing'].size - 1\n",
    "wr_std_dev = math.sqrt(writing_variance)\n",
    "\n",
    "for i in data['Reading']:\n",
    "    reading_variance += math.pow((i - reading_mean), 2)\n",
    "\n",
    "reading_variance /= data['Reading'].size - 1\n",
    "re_std_dev = math.sqrt(reading_variance)\n",
    "\n",
    "coeff = covariance / (wr_std_dev * re_std_dev)\n",
    "print('Coefficient of Correlation: {}'.format(coeff))"
   ]
  },
  {
   "cell_type": "markdown",
   "metadata": {},
   "source": [
    "**Task 2:** Comment on the strength of the correlation between the two datasets.\n",
    "\n",
    "The value is near to 1, meaning there is a strong positive correlation between the writing and reading scores in these SATs."
   ]
  },
  {
   "cell_type": "code",
   "execution_count": null,
   "metadata": {},
   "outputs": [],
   "source": []
  }
 ],
 "metadata": {
  "kernelspec": {
   "display_name": "Python 3",
   "language": "python",
   "name": "python3"
  },
  "language_info": {
   "codemirror_mode": {
    "name": "ipython",
    "version": 3
   },
   "file_extension": ".py",
   "mimetype": "text/x-python",
   "name": "python",
   "nbconvert_exporter": "python",
   "pygments_lexer": "ipython3",
   "version": "3.7.6"
  }
 },
 "nbformat": 4,
 "nbformat_minor": 4
}
