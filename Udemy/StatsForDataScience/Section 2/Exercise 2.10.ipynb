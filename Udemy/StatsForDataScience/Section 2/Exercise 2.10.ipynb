{
 "cells": [
  {
   "cell_type": "code",
   "execution_count": 1,
   "metadata": {},
   "outputs": [],
   "source": [
    "import numpy as np\n",
    "import math"
   ]
  },
  {
   "cell_type": "markdown",
   "metadata": {},
   "source": [
    "# Standard Deviation and Coefficient of Variation\n",
    "**Background:** You have the annual personal income of 11 people from the USA and 11 from Denmark. You have the mean income for USA from previous exercises."
   ]
  },
  {
   "cell_type": "code",
   "execution_count": 2,
   "metadata": {},
   "outputs": [],
   "source": [
    "us_data = np.array([62000, 64000, 49000, 324000, 1264000, 54330, 64000, 51000, 55000, 48000, 53000])\n",
    "dn_data = np.array([462852.37, 470317.73, 567367.42, 589763.50, 500179.17, 492713.81, 515109.89, \n",
    "                    507644.53, 425525.56, 522575.25, 500179.17,])\n",
    "us_mean = us_data.mean()\n",
    "dn_mean = dn_data.mean()"
   ]
  },
  {
   "cell_type": "markdown",
   "metadata": {},
   "source": [
    "**Task 1:** Decide whether you have to use sample or population formula for the standard deviation and the coefficient of variation.\n",
    "\n",
    "This is sample data - it does not represent the entire US or Denmark."
   ]
  },
  {
   "cell_type": "markdown",
   "metadata": {},
   "source": [
    "**Task 2:** Calculate the standard deviation of income in the USA and in Denmark."
   ]
  },
  {
   "cell_type": "code",
   "execution_count": 3,
   "metadata": {},
   "outputs": [
    {
     "name": "stdout",
     "output_type": "stream",
     "text": [
      "US Standard Deviation: \t\t365285.3809507898 \n",
      "Denmark Standard Deviation: \t45809.91722492684\n"
     ]
    }
   ],
   "source": [
    "us_variance = 0\n",
    "dn_variance = 0\n",
    "\n",
    "for i in us_data:\n",
    "    us_variance += math.pow((i - us_mean), 2)\n",
    "\n",
    "us_variance /= us_data.size - 1\n",
    "us_std_dev = math.sqrt(us_variance)\n",
    "\n",
    "for i in dn_data:\n",
    "    dn_variance += math.pow((i - dn_mean), 2)\n",
    "\n",
    "dn_variance /= dn_data.size - 1\n",
    "dn_std_dev = math.sqrt(dn_variance)\n",
    "\n",
    "print('US Standard Deviation: \\t\\t{} \\nDenmark Standard Deviation: \\t{}'.format(us_std_dev, dn_std_dev))"
   ]
  },
  {
   "cell_type": "markdown",
   "metadata": {},
   "source": [
    "**Task 3:** Calculate the coefficient of variation of income in the USA and in Denmark."
   ]
  },
  {
   "cell_type": "code",
   "execution_count": 4,
   "metadata": {},
   "outputs": [
    {
     "name": "stdout",
     "output_type": "stream",
     "text": [
      "US Coefficient of Variation: \t\t1.924092069001876 \n",
      "Denmark Coefficient of Variation: \t0.09072530929304154\n"
     ]
    }
   ],
   "source": [
    "us_cv = us_std_dev / us_mean\n",
    "dn_cv = dn_std_dev / dn_mean\n",
    "\n",
    "print('US Coefficient of Variation: \\t\\t{} \\nDenmark Coefficient of Variation: \\t{}'.format(us_cv, dn_cv))"
   ]
  },
  {
   "cell_type": "code",
   "execution_count": null,
   "metadata": {},
   "outputs": [],
   "source": []
  }
 ],
 "metadata": {
  "kernelspec": {
   "display_name": "Python 3",
   "language": "python",
   "name": "python3"
  },
  "language_info": {
   "codemirror_mode": {
    "name": "ipython",
    "version": 3
   },
   "file_extension": ".py",
   "mimetype": "text/x-python",
   "name": "python",
   "nbconvert_exporter": "python",
   "pygments_lexer": "ipython3",
   "version": "3.7.6"
  }
 },
 "nbformat": 4,
 "nbformat_minor": 4
}
