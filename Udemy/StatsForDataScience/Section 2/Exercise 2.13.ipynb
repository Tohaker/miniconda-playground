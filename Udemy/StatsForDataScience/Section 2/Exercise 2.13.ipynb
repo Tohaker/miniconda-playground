{
 "cells": [
  {
   "cell_type": "code",
   "execution_count": 1,
   "metadata": {},
   "outputs": [],
   "source": [
    "import numpy as np\n",
    "import pandas as pd\n",
    "from scipy import stats\n",
    "from matplotlib import pyplot as plt\n",
    "import math"
   ]
  },
  {
   "cell_type": "markdown",
   "metadata": {},
   "source": [
    "# 365 DataScience RE California Database\n",
    "**Task 1:** What are the types of data and the levels of measurement of the following variables: Cust ID, Mortgage, Year of sale."
   ]
  },
  {
   "cell_type": "code",
   "execution_count": 2,
   "metadata": {},
   "outputs": [
    {
     "data": {
      "text/html": [
       "<div>\n",
       "<style scoped>\n",
       "    .dataframe tbody tr th:only-of-type {\n",
       "        vertical-align: middle;\n",
       "    }\n",
       "\n",
       "    .dataframe tbody tr th {\n",
       "        vertical-align: top;\n",
       "    }\n",
       "\n",
       "    .dataframe thead th {\n",
       "        text-align: right;\n",
       "    }\n",
       "</style>\n",
       "<table border=\"1\" class=\"dataframe\">\n",
       "  <thead>\n",
       "    <tr style=\"text-align: right;\">\n",
       "      <th></th>\n",
       "      <th>ID</th>\n",
       "      <th>Building</th>\n",
       "      <th>Year of sale</th>\n",
       "      <th>Month of sale</th>\n",
       "      <th>Type of property</th>\n",
       "      <th>Property #</th>\n",
       "      <th>Area (ft.)</th>\n",
       "      <th>Price</th>\n",
       "      <th>Status</th>\n",
       "      <th>Customer ID</th>\n",
       "      <th>...</th>\n",
       "      <th>Year</th>\n",
       "      <th>Month</th>\n",
       "      <th>Day</th>\n",
       "      <th>Gender</th>\n",
       "      <th>Country</th>\n",
       "      <th>State</th>\n",
       "      <th>Purpose</th>\n",
       "      <th>Deal satisfaction</th>\n",
       "      <th>Mortgage</th>\n",
       "      <th>Source</th>\n",
       "    </tr>\n",
       "  </thead>\n",
       "  <tbody>\n",
       "    <tr>\n",
       "      <th>0</th>\n",
       "      <td>1030</td>\n",
       "      <td>1</td>\n",
       "      <td>2005.0</td>\n",
       "      <td>11.0</td>\n",
       "      <td>Apartment</td>\n",
       "      <td>30</td>\n",
       "      <td>743.09</td>\n",
       "      <td>246172.68</td>\n",
       "      <td>Sold</td>\n",
       "      <td>C0028</td>\n",
       "      <td>...</td>\n",
       "      <td>1986.0</td>\n",
       "      <td>6.0</td>\n",
       "      <td>21.0</td>\n",
       "      <td>F</td>\n",
       "      <td>USA</td>\n",
       "      <td>California</td>\n",
       "      <td>Home</td>\n",
       "      <td>5.0</td>\n",
       "      <td>No</td>\n",
       "      <td>Website</td>\n",
       "    </tr>\n",
       "    <tr>\n",
       "      <th>1</th>\n",
       "      <td>1029</td>\n",
       "      <td>1</td>\n",
       "      <td>2005.0</td>\n",
       "      <td>10.0</td>\n",
       "      <td>Apartment</td>\n",
       "      <td>29</td>\n",
       "      <td>756.21</td>\n",
       "      <td>246331.90</td>\n",
       "      <td>Sold</td>\n",
       "      <td>C0027</td>\n",
       "      <td>...</td>\n",
       "      <td>1983.0</td>\n",
       "      <td>2.0</td>\n",
       "      <td>24.0</td>\n",
       "      <td>F</td>\n",
       "      <td>USA</td>\n",
       "      <td>California</td>\n",
       "      <td>Home</td>\n",
       "      <td>5.0</td>\n",
       "      <td>No</td>\n",
       "      <td>Website</td>\n",
       "    </tr>\n",
       "    <tr>\n",
       "      <th>2</th>\n",
       "      <td>2002</td>\n",
       "      <td>2</td>\n",
       "      <td>2007.0</td>\n",
       "      <td>7.0</td>\n",
       "      <td>Apartment</td>\n",
       "      <td>2</td>\n",
       "      <td>587.28</td>\n",
       "      <td>209280.91</td>\n",
       "      <td>Sold</td>\n",
       "      <td>C0112</td>\n",
       "      <td>...</td>\n",
       "      <td>1985.0</td>\n",
       "      <td>12.0</td>\n",
       "      <td>27.0</td>\n",
       "      <td>M</td>\n",
       "      <td>USA</td>\n",
       "      <td>California</td>\n",
       "      <td>Home</td>\n",
       "      <td>1.0</td>\n",
       "      <td>Yes</td>\n",
       "      <td>Client</td>\n",
       "    </tr>\n",
       "    <tr>\n",
       "      <th>3</th>\n",
       "      <td>2031</td>\n",
       "      <td>2</td>\n",
       "      <td>2007.0</td>\n",
       "      <td>12.0</td>\n",
       "      <td>Apartment</td>\n",
       "      <td>31</td>\n",
       "      <td>1604.75</td>\n",
       "      <td>452667.01</td>\n",
       "      <td>Sold</td>\n",
       "      <td>C0160</td>\n",
       "      <td>...</td>\n",
       "      <td>1985.0</td>\n",
       "      <td>12.0</td>\n",
       "      <td>27.0</td>\n",
       "      <td>M</td>\n",
       "      <td>USA</td>\n",
       "      <td>California</td>\n",
       "      <td>Investment</td>\n",
       "      <td>3.0</td>\n",
       "      <td>Yes</td>\n",
       "      <td>Website</td>\n",
       "    </tr>\n",
       "    <tr>\n",
       "      <th>4</th>\n",
       "      <td>1049</td>\n",
       "      <td>1</td>\n",
       "      <td>2004.0</td>\n",
       "      <td>11.0</td>\n",
       "      <td>Apartment</td>\n",
       "      <td>49</td>\n",
       "      <td>1375.45</td>\n",
       "      <td>467083.31</td>\n",
       "      <td>Sold</td>\n",
       "      <td>C0014</td>\n",
       "      <td>...</td>\n",
       "      <td>1979.0</td>\n",
       "      <td>5.0</td>\n",
       "      <td>15.0</td>\n",
       "      <td>F</td>\n",
       "      <td>USA</td>\n",
       "      <td>California</td>\n",
       "      <td>Home</td>\n",
       "      <td>4.0</td>\n",
       "      <td>No</td>\n",
       "      <td>Agency</td>\n",
       "    </tr>\n",
       "  </tbody>\n",
       "</table>\n",
       "<p>5 rows × 25 columns</p>\n",
       "</div>"
      ],
      "text/plain": [
       "     ID  Building  Year of sale  Month of sale Type of property  Property #  \\\n",
       "0  1030         1        2005.0           11.0        Apartment          30   \n",
       "1  1029         1        2005.0           10.0        Apartment          29   \n",
       "2  2002         2        2007.0            7.0        Apartment           2   \n",
       "3  2031         2        2007.0           12.0        Apartment          31   \n",
       "4  1049         1        2004.0           11.0        Apartment          49   \n",
       "\n",
       "   Area (ft.)      Price  Status Customer ID  ...    Year Month   Day Gender  \\\n",
       "0      743.09  246172.68   Sold        C0028  ...  1986.0   6.0  21.0      F   \n",
       "1      756.21  246331.90   Sold        C0027  ...  1983.0   2.0  24.0      F   \n",
       "2      587.28  209280.91   Sold        C0112  ...  1985.0  12.0  27.0      M   \n",
       "3     1604.75  452667.01   Sold        C0160  ...  1985.0  12.0  27.0      M   \n",
       "4     1375.45  467083.31   Sold        C0014  ...  1979.0   5.0  15.0      F   \n",
       "\n",
       "  Country       State     Purpose  Deal satisfaction Mortgage   Source  \n",
       "0     USA  California        Home                5.0       No  Website  \n",
       "1     USA  California        Home                5.0       No  Website  \n",
       "2     USA  California        Home                1.0      Yes   Client  \n",
       "3     USA  California  Investment                3.0      Yes  Website  \n",
       "4     USA  California        Home                4.0       No   Agency  \n",
       "\n",
       "[5 rows x 25 columns]"
      ]
     },
     "execution_count": 2,
     "metadata": {},
     "output_type": "execute_result"
    }
   ],
   "source": [
    "data = pd.read_csv('ex2-13.csv').rename(columns={'Y': 'Year', 'M': 'Month', 'D': 'Day'}).astype({'ID': 'string'})\n",
    "data['Price'] = data['Price'].str.replace('£', '').str.replace(',', '').str.strip()\n",
    "data['Price'] = data['Price'].astype('float')\n",
    "data.head()"
   ]
  },
  {
   "cell_type": "markdown",
   "metadata": {},
   "source": [
    "**Customer ID:** Categorical, Nominal  \n",
    "**Mortgage:** Categogical, Nominal (Binary)  \n",
    "**Year of Sale:** Numerical, Discrete - Interval  "
   ]
  },
  {
   "cell_type": "markdown",
   "metadata": {},
   "source": [
    "**Task 2:** Create a frequency distribution graph representing the price (that is a histogram with the highest possible number of bins - 272). Use data on all apartments and offices, no matter if sold or not."
   ]
  },
  {
   "cell_type": "code",
   "execution_count": 3,
   "metadata": {},
   "outputs": [
    {
     "data": {
      "text/plain": [
       "array([[<matplotlib.axes._subplots.AxesSubplot object at 0x7fdf8c517850>]],\n",
       "      dtype=object)"
      ]
     },
     "execution_count": 3,
     "metadata": {},
     "output_type": "execute_result"
    },
    {
     "data": {
      "image/png": "[encoded data removed]",
      "text/plain": [
       "<Figure size 432x288 with 1 Axes>"
      ]
     },
     "metadata": {
      "needs_background": "light"
     },
     "output_type": "display_data"
    }
   ],
   "source": [
    "data.hist(column='Price', bins=272)"
   ]
  },
  {
   "cell_type": "markdown",
   "metadata": {},
   "source": [
    "**Task 3:** Create a histogram which represents the Price variable. Choose interval width (bins) of length $100,000."
   ]
  },
  {
   "cell_type": "code",
   "execution_count": 4,
   "metadata": {},
   "outputs": [
    {
     "data": {
      "text/plain": [
       "array([[<matplotlib.axes._subplots.AxesSubplot object at 0x7fdf84134650>]],\n",
       "      dtype=object)"
      ]
     },
     "execution_count": 4,
     "metadata": {},
     "output_type": "execute_result"
    },
    {
     "data": {
      "image/png": "[encoded data removed]",
      "text/plain": [
       "<Figure size 432x288 with 1 Axes>"
      ]
     },
     "metadata": {
      "needs_background": "light"
     },
     "output_type": "display_data"
    }
   ],
   "source": [
    "bins = math.ceil((data['Price'].max() - data['Price'].min()) / 100000)\n",
    "data.hist(column='Price', bins=bins)"
   ]
  },
  {
   "cell_type": "markdown",
   "metadata": {},
   "source": [
    "**Task 4:** Interpret the results.\n",
    "\n",
    "The majority of property prices are within the 200k - 300k price bracket. What this doesn't show is who is buying properties for these prices."
   ]
  },
  {
   "cell_type": "markdown",
   "metadata": {},
   "source": [
    "**Task 5:** Create a scatter plot showing the relationship between Price and Area. Use the data on all properties, no matter if sold or not. Interpret the results."
   ]
  },
  {
   "cell_type": "code",
   "execution_count": 5,
   "metadata": {},
   "outputs": [
    {
     "data": {
      "text/plain": [
       "<matplotlib.axes._subplots.AxesSubplot at 0x7fdf84093c50>"
      ]
     },
     "execution_count": 5,
     "metadata": {},
     "output_type": "execute_result"
    },
    {
     "data": {
      "image/png": "[encoded data removed]",
      "text/plain": [
       "<Figure size 432x288 with 1 Axes>"
      ]
     },
     "metadata": {
      "needs_background": "light"
     },
     "output_type": "display_data"
    }
   ],
   "source": [
    "data.plot.scatter(x='Price', y='Area (ft.)')"
   ]
  },
  {
   "cell_type": "markdown",
   "metadata": {},
   "source": [
    "_Interpretation:_ There is a clear positive trend between the price and the area. We can also see a cluster at the low area/price range that indicates a lot of properties have a smaller price and, therefore, area. This correlates to the previous histogram, with the majority of properties in the same band."
   ]
  },
  {
   "cell_type": "markdown",
   "metadata": {},
   "source": [
    "**Task 6:** Create a frequency distribution table, where you list all the countries from which the company has buyers (country vs number of buyers). Count the absolute frequency, the relative frequency and the cumulative frequency. "
   ]
  },
  {
   "cell_type": "code",
   "execution_count": 6,
   "metadata": {},
   "outputs": [
    {
     "data": {
      "text/html": [
       "<div>\n",
       "<style scoped>\n",
       "    .dataframe tbody tr th:only-of-type {\n",
       "        vertical-align: middle;\n",
       "    }\n",
       "\n",
       "    .dataframe tbody tr th {\n",
       "        vertical-align: top;\n",
       "    }\n",
       "\n",
       "    .dataframe thead th {\n",
       "        text-align: right;\n",
       "    }\n",
       "</style>\n",
       "<table border=\"1\" class=\"dataframe\">\n",
       "  <thead>\n",
       "    <tr style=\"text-align: right;\">\n",
       "      <th></th>\n",
       "      <th>Absolute Freq.</th>\n",
       "      <th>Relative Freq.</th>\n",
       "      <th>Cumulative Freq.</th>\n",
       "    </tr>\n",
       "  </thead>\n",
       "  <tbody>\n",
       "    <tr>\n",
       "      <th>USA</th>\n",
       "      <td>177</td>\n",
       "      <td>90.769231</td>\n",
       "      <td>90.769231</td>\n",
       "    </tr>\n",
       "    <tr>\n",
       "      <th>Canada</th>\n",
       "      <td>7</td>\n",
       "      <td>3.589744</td>\n",
       "      <td>94.358974</td>\n",
       "    </tr>\n",
       "    <tr>\n",
       "      <th>Russia</th>\n",
       "      <td>4</td>\n",
       "      <td>2.051282</td>\n",
       "      <td>96.410256</td>\n",
       "    </tr>\n",
       "    <tr>\n",
       "      <th>UK</th>\n",
       "      <td>2</td>\n",
       "      <td>1.025641</td>\n",
       "      <td>97.435897</td>\n",
       "    </tr>\n",
       "    <tr>\n",
       "      <th>Belgium</th>\n",
       "      <td>2</td>\n",
       "      <td>1.025641</td>\n",
       "      <td>98.461538</td>\n",
       "    </tr>\n",
       "    <tr>\n",
       "      <th>Germany</th>\n",
       "      <td>1</td>\n",
       "      <td>0.512821</td>\n",
       "      <td>98.974359</td>\n",
       "    </tr>\n",
       "    <tr>\n",
       "      <th>Mexico</th>\n",
       "      <td>1</td>\n",
       "      <td>0.512821</td>\n",
       "      <td>99.487179</td>\n",
       "    </tr>\n",
       "    <tr>\n",
       "      <th>Denmark</th>\n",
       "      <td>1</td>\n",
       "      <td>0.512821</td>\n",
       "      <td>100.000000</td>\n",
       "    </tr>\n",
       "  </tbody>\n",
       "</table>\n",
       "</div>"
      ],
      "text/plain": [
       "         Absolute Freq.  Relative Freq.  Cumulative Freq.\n",
       "USA                 177       90.769231         90.769231\n",
       "Canada                7        3.589744         94.358974\n",
       "Russia                4        2.051282         96.410256\n",
       "UK                    2        1.025641         97.435897\n",
       "Belgium               2        1.025641         98.461538\n",
       "Germany               1        0.512821         98.974359\n",
       "Mexico                1        0.512821         99.487179\n",
       "Denmark               1        0.512821        100.000000"
      ]
     },
     "execution_count": 6,
     "metadata": {},
     "output_type": "execute_result"
    }
   ],
   "source": [
    "countries = pd.DataFrame(data['Country'].value_counts()).rename(columns={'Country': 'Absolute Freq.'})\n",
    "countries['Relative Freq.'] = countries['Absolute Freq.'] / countries['Absolute Freq.'].sum() * 100\n",
    "countries['Cumulative Freq.'] = countries['Relative Freq.'].cumsum()\n",
    "countries"
   ]
  },
  {
   "cell_type": "markdown",
   "metadata": {},
   "source": [
    "**Task 7:** Create a Pareto diagram representing the data."
   ]
  },
  {
   "cell_type": "code",
   "execution_count": 7,
   "metadata": {},
   "outputs": [
    {
     "data": {
      "image/png": "[encoded data removed]",
      "text/plain": [
       "<Figure size 432x288 with 2 Axes>"
      ]
     },
     "metadata": {},
     "output_type": "display_data"
    }
   ],
   "source": [
    "# We don't need to reorder the table because value_counts does this for us.\n",
    "fig, ax = plt.subplots()\n",
    "ax.bar(countries.index, countries['Absolute Freq.'], color='C0')\n",
    "ax2 = ax.twinx()\n",
    "ax2.plot(countries.index, countries['Cumulative Freq.'], color='C1', marker='D', ms=7)\n",
    "\n",
    "# Prints the percentages on the graph.\n",
    "formatted_freqs = ['{:.2f}%'.format(x) for x in countries['Cumulative Freq.']]\n",
    "for i, txt in enumerate(formatted_freqs):\n",
    "    ax2.annotate(txt, (countries.index[i], countries['Cumulative Freq.'][i]))\n",
    "\n",
    "ax.tick_params(axis='y', colors='C0')\n",
    "ax2.tick_params(axis='y', colors='C1')\n",
    "plt.show()"
   ]
  },
  {
   "cell_type": "markdown",
   "metadata": {},
   "source": [
    "**Task 8:** Calculate the mean, median, mode, skewness, variance and standard deviation of Price for all properties, no matter if sold or not."
   ]
  },
  {
   "cell_type": "code",
   "execution_count": 8,
   "metadata": {},
   "outputs": [
    {
     "name": "stdout",
     "output_type": "stream",
     "text": [
      "Mean: 281171.9013857678 \n",
      "Mode: 460001.26 \n",
      "Median: 249075.66 \n",
      "Skew: 1.096014932145483 \n",
      "Variance: 7912471594.835338 \n",
      "Standard Deviation: 88952.0747078748\n"
     ]
    }
   ],
   "source": [
    "mean = data['Price'].mean()\n",
    "mode = data['Price'].mode()[0]\n",
    "median = np.median(data['Price'])\n",
    "skew = data['Price'].skew()\n",
    "variance = np.var(data['Price'])\n",
    "std_dev = np.std(data['Price'])\n",
    "\n",
    "print('Mean: {} \\nMode: {} \\nMedian: {} \\nSkew: {} \\nVariance: {} \\nStandard Deviation: {}'.format(mean, mode, median, skew, variance, std_dev))"
   ]
  },
  {
   "cell_type": "markdown",
   "metadata": {},
   "source": [
    "**Task 9:** Interpret the measures.\n",
    "\n",
    "Whilst the mean is only 281K, most properties are valued at 460K. This may be an outlier however, as the mean and median are relatively close in value.\n",
    "There's a positive skew, telling us that more low-values properties exist (this is backed up in the previous graphs)."
   ]
  },
  {
   "cell_type": "markdown",
   "metadata": {},
   "source": [
    "**Task 10:** Calculate the covariance and correlation coefficient between Price and Area, no matter if the property is sold or not. Is the result in line with the scatter plot?"
   ]
  },
  {
   "cell_type": "code",
   "execution_count": 9,
   "metadata": {},
   "outputs": [
    {
     "name": "stdout",
     "output_type": "stream",
     "text": [
      "Covariance: 24147707.28908277\n",
      "Coefficient of Correlation: 0.951087333679036\n"
     ]
    }
   ],
   "source": [
    "covariance = 0\n",
    "price_mean = data['Price'].mean()\n",
    "area_mean = data['Area (ft.)'].mean()\n",
    "\n",
    "for i, row in data.iterrows():\n",
    "    covariance += (row['Price'] - price_mean) * (row['Area (ft.)'] - area_mean)\n",
    "    \n",
    "covariance /= data['Price'].size - 1\n",
    "\n",
    "print('Covariance: {}'.format(covariance))\n",
    "\n",
    "price_variance = 0\n",
    "area_variance = 0\n",
    "\n",
    "for i in data['Price']:\n",
    "    price_variance += math.pow((i - price_mean), 2)\n",
    "\n",
    "price_variance /= data['Price'].size - 1\n",
    "pr_std_dev = math.sqrt(price_variance)\n",
    "\n",
    "for i in data['Area (ft.)']:\n",
    "    area_variance += math.pow((i - area_mean), 2)\n",
    "\n",
    "area_variance /= data['Area (ft.)'].size - 1\n",
    "ar_std_dev = math.sqrt(area_variance)\n",
    "\n",
    "coeff = covariance / (pr_std_dev * ar_std_dev)\n",
    "print('Coefficient of Correlation: {}'.format(coeff))"
   ]
  },
  {
   "cell_type": "markdown",
   "metadata": {},
   "source": [
    "Coeffiencient is in line with the scatter plot as it is nearly 1, demonstrating a clear positive correlation."
   ]
  }
 ],
 "metadata": {
  "kernelspec": {
   "display_name": "Python 3",
   "language": "python",
   "name": "python3"
  },
  "language_info": {
   "codemirror_mode": {
    "name": "ipython",
    "version": 3
   },
   "file_extension": ".py",
   "mimetype": "text/x-python",
   "name": "python",
   "nbconvert_exporter": "python",
   "pygments_lexer": "ipython3",
   "version": "3.7.6"
  }
 },
 "nbformat": 4,
 "nbformat_minor": 4
}
